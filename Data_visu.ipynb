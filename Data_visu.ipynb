{
  "nbformat": 4,
  "nbformat_minor": 0,
  "metadata": {
    "colab": {
      "name": "Data-visu.ipynb",
      "version": "0.3.2",
      "provenance": [],
      "include_colab_link": true
    },
    "kernelspec": {
      "name": "python3",
      "display_name": "Python 3"
    }
  },
  "cells": [
    {
      "cell_type": "markdown",
      "metadata": {
        "id": "view-in-github",
        "colab_type": "text"
      },
      "source": [
        "<a href=\"https://colab.research.google.com/github/ChrisCosteD/CoursSimplon/blob/master/Data_visu.ipynb\" target=\"_parent\"><img src=\"https://colab.research.google.com/assets/colab-badge.svg\" alt=\"Open In Colab\"/></a>"
      ]
    },
    {
      "metadata": {
        "id": "RGKxmWRnmDoh",
        "colab_type": "text"
      },
      "cell_type": "markdown",
      "source": [
        "Code pour la DATA visualisation avec la librairie matpotlib"
      ]
    },
    {
      "metadata": {
        "id": "bCx82saLgdcd",
        "colab_type": "code",
        "colab": {}
      },
      "cell_type": "code",
      "source": [
        "import matplotlib.pyplot as plt  #creation alias \n",
        "import math as mt"
      ],
      "execution_count": 0,
      "outputs": []
    },
    {
      "metadata": {
        "id": "xnPKA4kGhK_x",
        "colab_type": "code",
        "colab": {
          "base_uri": "https://localhost:8080/",
          "height": 303
        },
        "outputId": "0d8b189e-d104-4ce4-e330-e9c1c60063ca"
      },
      "cell_type": "code",
      "source": [
        "x = range (100)\n",
        "y = [elt**2 for elt in x]\n",
        "plt.plot(x, y,\"ro\", x, x, \"ro\") # \"ro\" pour rond, \"+\" pour des plus etc à placer après les 2 données"
      ],
      "execution_count": 15,
      "outputs": [
        {
          "output_type": "execute_result",
          "data": {
            "text/plain": [
              "[<matplotlib.lines.Line2D at 0x7f9bd3aad7f0>,\n",
              " <matplotlib.lines.Line2D at 0x7f9bd3aada58>]"
            ]
          },
          "metadata": {
            "tags": []
          },
          "execution_count": 15
        },
        {
          "output_type": "display_data",
          "data": {
            "image/png": "[encoded data removed]",
            "text/plain": [
              "<Figure size 432x288 with 1 Axes>"
            ]
          },
          "metadata": {
            "tags": []
          }
        }
      ]
    },
    {
      "metadata": {
        "id": "U58fWS9Lh3wV",
        "colab_type": "code",
        "colab": {
          "base_uri": "https://localhost:8080/",
          "height": 286
        },
        "outputId": "5fa9dbff-50e5-4ff2-e91e-605137c75737"
      },
      "cell_type": "code",
      "source": [
        "x = range (50)\n",
        "y = [mt.sin(elt/5) for elt in x] # pour avoir un sinus. La division par 5 est pour \"écraser\" la courbe pour\n",
        "plt.plot(x, y, \"ro\") "
      ],
      "execution_count": 19,
      "outputs": [
        {
          "output_type": "execute_result",
          "data": {
            "text/plain": [
              "[<matplotlib.lines.Line2D at 0x7f9bd3c40390>]"
            ]
          },
          "metadata": {
            "tags": []
          },
          "execution_count": 19
        },
        {
          "output_type": "display_data",
          "data": {
            "image/png": "[encoded data removed]",
            "text/plain": [
              "<Figure size 432x288 with 1 Axes>"
            ]
          },
          "metadata": {
            "tags": []
          }
        }
      ]
    }
  ]
}